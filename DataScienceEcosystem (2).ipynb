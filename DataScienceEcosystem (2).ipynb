{
  "metadata": {
    "kernelspec": {
      "name": "python",
      "display_name": "Python (Pyodide)",
      "language": "python"
    },
    "language_info": {
      "codemirror_mode": {
        "name": "python",
        "version": 3
      },
      "file_extension": ".py",
      "mimetype": "text/x-python",
      "name": "python",
      "nbconvert_exporter": "python",
      "pygments_lexer": "ipython3",
      "version": "3.8"
    }
  },
  "nbformat_minor": 5,
  "nbformat": 4,
  "cells": [
    {
      "id": "2cda08bf-d442-48e5-bcb8-d49a9ec2d112",
      "cell_type": "markdown",
      "source": "<h1>Data Science Tools and Ecosystem</h1>",
      "metadata": {}
    },
    {
      "id": "8cf7c2cb-2abe-4811-95e9-11f498b31d0c",
      "cell_type": "markdown",
      "source": "<p>In this notebook, Data Science Tools and Ecosystem are summarized.\n</p>",
      "metadata": {}
    },
    {
      "id": "082b137a-70fb-4e55-a6f8-666753f0bb89",
      "cell_type": "markdown",
      "source": "<p><b>Objectives:</b></p>\n<ul>\n    <li>List popular languages for Data Science</li>\n    <li>List popular libraries for Data Science</li>\n    <li>Examples of evaluating arithmetic expressions</li>\n</ul>",
      "metadata": {}
    },
    {
      "id": "8ea35815-deb4-4a56-a129-fd8fa70e7966",
      "cell_type": "markdown",
      "source": "<h3>Some of the popular languages that Data Scientists use are:</h3>\n<ol>\n    <li>Python</li>\n    <li>R</li>\n    <li>Java</li>\n</ol>",
      "metadata": {}
    },
    {
      "id": "1c08e1a7-f238-4bf2-a880-8c2dd55f6779",
      "cell_type": "markdown",
      "source": "<h3>Some of the commonly used libraries used by Data Scientists include:</h3>\n<ol>\n    <li>Pandas</li>\n    <li>PMML</li>\n    <li>Java-ML</li>\n</ol>",
      "metadata": {}
    },
    {
      "id": "381bec5d-ee95-4e20-9e1a-5beb045fc193",
      "cell_type": "markdown",
      "source": "<table>\n    <th>Data Science Tools</th>\n        <tr>\n            <td>Pandas</td>\n        </tr>\n        <tr>\n            <td>Scrapy</td>\n        </tr>\n        <tr>\n            <td>Weka</td>\n        </tr>\n</table>\n",
      "metadata": {}
    },
    {
      "id": "5a774de7-78d9-4277-90ed-a79590b6a5ba",
      "cell_type": "markdown",
      "source": "<h3>Below are a few examples of evaluating arithmetic expressions in Python</h3>",
      "metadata": {}
    },
    {
      "id": "98979b93-caf9-4583-aeed-a28b680f010b",
      "cell_type": "code",
      "source": "#This a simple arithmetic expression to mutiply then add integers\n(3*4)+5",
      "metadata": {
        "trusted": true
      },
      "outputs": [
        {
          "execution_count": 1,
          "output_type": "execute_result",
          "data": {
            "text/plain": "17"
          },
          "metadata": {}
        }
      ],
      "execution_count": 1
    },
    {
      "id": "7968666e-96dd-42a8-96e9-d5ffd325575b",
      "cell_type": "code",
      "source": "#This will convert 200 minutes to hours by diving by 60\n200/60",
      "metadata": {
        "trusted": true
      },
      "outputs": [
        {
          "execution_count": 2,
          "output_type": "execute_result",
          "data": {
            "text/plain": "3.3333333333333335"
          },
          "metadata": {}
        }
      ],
      "execution_count": 2
    },
    {
      "id": "ef3889eb-2298-4732-8e6c-d4f1d3e8a7e9",
      "cell_type": "markdown",
      "source": "<h2>Author</h2>\n<p>Elias S. K.</p>",
      "metadata": {}
    },
    {
      "id": "b6ea6f59-f302-4756-adb1-15fa2bbd38fd",
      "cell_type": "code",
      "source": "",
      "metadata": {
        "trusted": true
      },
      "outputs": [],
      "execution_count": null
    }
  ]
}